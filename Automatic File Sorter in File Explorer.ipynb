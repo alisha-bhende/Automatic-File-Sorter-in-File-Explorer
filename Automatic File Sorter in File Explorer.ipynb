{
 "cells": [
  {
   "cell_type": "code",
   "execution_count": null,
   "id": "cabf0ddf-fc28-405f-8cd6-9c23a6c4a897",
   "metadata": {},
   "outputs": [],
   "source": [
    "#Create a file sorter using Python. It will automate the sorting of the files without having to drag and drop files into folders  "
   ]
  },
  {
   "cell_type": "code",
   "execution_count": 1,
   "id": "cf513689-df28-4cbb-b0fe-5ea38399c4f0",
   "metadata": {},
   "outputs": [],
   "source": [
    "import os, shutil"
   ]
  },
  {
   "cell_type": "code",
   "execution_count": null,
   "id": "cde1c508-82bc-4a12-ac48-aef4f556a8c1",
   "metadata": {},
   "outputs": [],
   "source": [
    "#shutil is called \"shell utilities\" because it allows you to perform various file-related tasks."
   ]
  },
  {
   "cell_type": "code",
   "execution_count": null,
   "id": "876b43ac-8e96-4d47-bc4f-c416ad3e90de",
   "metadata": {},
   "outputs": [],
   "source": []
  },
  {
   "cell_type": "code",
   "execution_count": null,
   "id": "ffd55bae-7c22-47d8-bb6c-8af2eff4b7e7",
   "metadata": {},
   "outputs": [],
   "source": [
    "#Next step is to get the path down and change the back slashes to forward slashes to avoid error later. Also add a forward slash to the end. "
   ]
  },
  {
   "cell_type": "code",
   "execution_count": null,
   "id": "8d9d7a48-42c0-4e0e-8924-7e6dbc32caa0",
   "metadata": {},
   "outputs": [],
   "source": [
    "#also add an r at the start to make it raw string."
   ]
  },
  {
   "cell_type": "code",
   "execution_count": 2,
   "id": "9fd5af19-7bbb-4212-a45b-a9682b81648a",
   "metadata": {},
   "outputs": [],
   "source": [
    "path = r\"C:/Users/Alisha Bhende/Python File Sorter Project Files/\""
   ]
  },
  {
   "cell_type": "code",
   "execution_count": null,
   "id": "e832c4fb-2d22-4282-9793-7769243ff511",
   "metadata": {},
   "outputs": [],
   "source": []
  },
  {
   "cell_type": "code",
   "execution_count": null,
   "id": "f6de2dce-718c-4025-8408-7836c2df6c01",
   "metadata": {},
   "outputs": [],
   "source": [
    "#Now, the steps are \n",
    "#we do not have any folders in the our main folder so we need to create those\n",
    "#it needs to check each of the files individually to identify what kind of file it is and then put it into the correct folder"
   ]
  },
  {
   "cell_type": "code",
   "execution_count": null,
   "id": "69cefad6-c554-42be-9957-048e49515700",
   "metadata": {},
   "outputs": [],
   "source": [
    "#first step is checking what files are in the folder"
   ]
  },
  {
   "cell_type": "code",
   "execution_count": 4,
   "id": "827f631b-14c9-46d7-ad29-23b5ed2d8f77",
   "metadata": {},
   "outputs": [
    {
     "data": {
      "text/plain": [
       "['20151229_143613.jpg',\n",
       " '20151229_152152.jpg',\n",
       " '84200676413 - Survey Report.csv',\n",
       " 'For Python File Sorter Project.txt']"
      ]
     },
     "execution_count": 4,
     "metadata": {},
     "output_type": "execute_result"
    }
   ],
   "source": [
    "os.listdir(path)"
   ]
  },
  {
   "cell_type": "code",
   "execution_count": null,
   "id": "d537f81f-aff1-4367-97c0-bc28e6d5db22",
   "metadata": {},
   "outputs": [],
   "source": []
  },
  {
   "cell_type": "code",
   "execution_count": null,
   "id": "3017023f-2c58-4f2d-a540-e664ef31907e",
   "metadata": {},
   "outputs": [],
   "source": [
    "#second step is checking if the path already exists and then create three separate paths or folders"
   ]
  },
  {
   "cell_type": "code",
   "execution_count": 5,
   "id": "813c6fc5-c1da-4cf9-a05a-86c1894f8bdf",
   "metadata": {},
   "outputs": [
    {
     "data": {
      "text/plain": [
       "False"
      ]
     },
     "execution_count": 5,
     "metadata": {},
     "output_type": "execute_result"
    }
   ],
   "source": [
    "os.path.exists(path + 'csv files')"
   ]
  },
  {
   "cell_type": "code",
   "execution_count": null,
   "id": "c21dd6bf-438f-4337-a12f-8858862230e1",
   "metadata": {},
   "outputs": [],
   "source": []
  },
  {
   "cell_type": "code",
   "execution_count": null,
   "id": "29f6d003-2b0d-4415-9417-f5f86ab325d5",
   "metadata": {},
   "outputs": [],
   "source": [
    "#we put the new paths in a list and loop through them"
   ]
  },
  {
   "cell_type": "code",
   "execution_count": 10,
   "id": "260a8801-c316-4c52-8aac-e2ba013b1291",
   "metadata": {},
   "outputs": [],
   "source": [
    "folder_names = ['csv files', 'image files', 'text files']\n",
    "\n",
    "for loop in range(0,3):\n",
    "    os.path.exists(path + folder_names[loop])"
   ]
  },
  {
   "cell_type": "code",
   "execution_count": null,
   "id": "9667b331-68d4-4e4b-9134-d50c0363016f",
   "metadata": {},
   "outputs": [],
   "source": []
  },
  {
   "cell_type": "code",
   "execution_count": null,
   "id": "e5ca96a9-0651-4f31-b0eb-a5de718e39ea",
   "metadata": {},
   "outputs": [],
   "source": [
    "#if the folder does not exist then create it"
   ]
  },
  {
   "cell_type": "code",
   "execution_count": 14,
   "id": "fd05d9d2-8201-4725-8f77-786bfc5c9a6e",
   "metadata": {},
   "outputs": [
    {
     "name": "stdout",
     "output_type": "stream",
     "text": [
      "C:/Users/Alisha Bhende/Python File Sorter Project Files/csv files\n",
      "C:/Users/Alisha Bhende/Python File Sorter Project Files/image files\n",
      "C:/Users/Alisha Bhende/Python File Sorter Project Files/text files\n"
     ]
    }
   ],
   "source": [
    "folder_names = ['csv files', 'image files', 'text files']\n",
    "\n",
    "for loop in range(0,3):\n",
    "    if not os.path.exists(path + folder_names[loop]):\n",
    "        print(path + folder_names[loop])\n",
    "        os.makedirs(path + folder_names[loop])"
   ]
  },
  {
   "cell_type": "code",
   "execution_count": null,
   "id": "60d793bb-d684-4288-96b3-aa5a4290e9f0",
   "metadata": {},
   "outputs": [],
   "source": []
  },
  {
   "cell_type": "code",
   "execution_count": null,
   "id": "ab1cc9f6-523f-4484-9082-48f5a52cab6e",
   "metadata": {},
   "outputs": [],
   "source": [
    "#write a script to check what kind of file it is and place it in the correct folder"
   ]
  },
  {
   "cell_type": "code",
   "execution_count": 15,
   "id": "5a8e5876-adf2-4f05-bb4b-dc3bc5906a76",
   "metadata": {},
   "outputs": [],
   "source": [
    "file_name = os.listdir(path)"
   ]
  },
  {
   "cell_type": "code",
   "execution_count": null,
   "id": "e6f6fe2b-9fe7-4bec-9384-9b2d8cf9c43e",
   "metadata": {},
   "outputs": [],
   "source": [
    "#explaination for the below code: if we find csv in any of the files in the main folder and its not already in the sub-folder, \n",
    "#use shutil to move the csv file - specify from initial/original path to new path separated by a comma "
   ]
  },
  {
   "cell_type": "code",
   "execution_count": 18,
   "id": "45a6f99a-e8c4-452a-9519-505e0a1cb339",
   "metadata": {},
   "outputs": [],
   "source": [
    "for file in file_name:\n",
    "    if \".csv\" in file and not os.path.exists(path + \"csv files/\" + file):\n",
    "        shutil.move(path + file, path + \"csv files/\" + file)\n",
    "    elif \".jpg\" in file and not os.path.exists(path + \"image files/\" + file):\n",
    "        shutil.move(path + file, path + \"image files/\" + file)\n",
    "    elif \".txt\" in file and not os.path.exists(path + \"text files/\" + file):\n",
    "        shutil.move(path + file, path + \"text files/\" + file)"
   ]
  },
  {
   "cell_type": "code",
   "execution_count": null,
   "id": "cdcc79be-4ecb-4a23-86e2-da2afaa5bafa",
   "metadata": {},
   "outputs": [],
   "source": []
  },
  {
   "cell_type": "code",
   "execution_count": null,
   "id": "38f7bc00-e6dd-4ec1-a514-4d4fc580f001",
   "metadata": {},
   "outputs": [],
   "source": [
    "#finished code"
   ]
  },
  {
   "cell_type": "code",
   "execution_count": 20,
   "id": "c32b6d3f-6e2a-441d-8bcd-2154a4dbe786",
   "metadata": {},
   "outputs": [],
   "source": [
    "folder_names = ['csv files', 'image files', 'text files']\n",
    "\n",
    "for loop in range(0,3):\n",
    "    if not os.path.exists(path + folder_names[loop]):\n",
    "        #print(path + folder_names[loop])\n",
    "        os.makedirs(path + folder_names[loop])\n",
    "\n",
    "file_name = os.listdir(path)\n",
    "\n",
    "for file in file_name:\n",
    "    if \".csv\" in file and not os.path.exists(path + \"csv files/\" + file):\n",
    "        shutil.move(path + file, path + \"csv files/\" + file)\n",
    "    elif \".jpg\" in file and not os.path.exists(path + \"image files/\" + file):\n",
    "        shutil.move(path + file, path + \"image files/\" + file)\n",
    "    elif \".txt\" in file and not os.path.exists(path + \"text files/\" + file):\n",
    "        shutil.move(path + file, path + \"text files/\" + file)"
   ]
  },
  {
   "cell_type": "code",
   "execution_count": null,
   "id": "ee2e115f-fb4f-4f29-9b0e-f4a91f4c9a81",
   "metadata": {},
   "outputs": [],
   "source": []
  },
  {
   "cell_type": "code",
   "execution_count": null,
   "id": "c1ca8541-226b-4123-b992-7cf4a2fd6eed",
   "metadata": {},
   "outputs": [],
   "source": []
  }
 ],
 "metadata": {
  "kernelspec": {
   "display_name": "Python 3 (ipykernel)",
   "language": "python",
   "name": "python3"
  },
  "language_info": {
   "codemirror_mode": {
    "name": "ipython",
    "version": 3
   },
   "file_extension": ".py",
   "mimetype": "text/x-python",
   "name": "python",
   "nbconvert_exporter": "python",
   "pygments_lexer": "ipython3",
   "version": "3.11.7"
  }
 },
 "nbformat": 4,
 "nbformat_minor": 5
}
